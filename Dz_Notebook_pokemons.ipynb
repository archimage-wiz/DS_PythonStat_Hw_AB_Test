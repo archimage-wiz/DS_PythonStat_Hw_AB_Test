{
 "cells": [
  {
   "cell_type": "markdown",
   "metadata": {
    "id": "SOZozVNIGZwQ"
   },
   "source": [
    "## Домашнее задание к занятию \"A/B-тесты\""
   ]
  },
  {
   "cell_type": "markdown",
   "metadata": {
    "id": "N5Z4Rg7PGZwR"
   },
   "source": [
    "### Описание задачи\n",
    "\n",
    "![banner](https://storage.googleapis.com/kaggle-datasets-images/635/1204/126be74882028aac7241553cef0e27a7/dataset-original.jpg)\n",
    "\n",
    "Покемоны - это маленькие существа, которые сражаются друг с другом на соревнованиях. Все покемоны имеют разные характеристики (сила атаки, защиты и т. д.) И относятся к одному или двум так называемым классам (вода, огонь и т. д.).\n",
    "Профессор Оук является изобретателем Pokedex - портативного устройства, которое хранит информацию обо всех существующих покемонах. Как его ведущий специалист по данным, Вы только что получили от него запрос с просьбой осуществить аналитику данных на всех устройствах Pokedex.\n",
    "\n",
    "### Описание набора данных\n",
    "Профессор Оук скопировал все содержимое в память одного устройства Pokedex, в результате чего получился набор данных, с которым Вы будете работать в этой задаче. В этом файле каждая строка представляет характеристики одного покемона:\n",
    "\n",
    "* `pid`: Numeric - ID покемона\n",
    "* `HP`: Numeric - Очки здоровья\n",
    "* `Attack`: Numeric - Сила обычной атаки\n",
    "* `Defense`: Numeric - Сила обычной защиты\n",
    "* `Sp. Atk`: Numeric - Сила специальной атаки\n",
    "* `Sp. Def`: Numeric - Сила специальной защиты\n",
    "* `Speed`: Numeric - Скорость движений\n",
    "* `Legendary`: Boolean - «True», если покемон редкий\n",
    "* `Class 1`: Categorical - Класс покемона\n",
    "* `Class 2`: Categorical - Класс покемона"
   ]
  },
  {
   "cell_type": "code",
   "execution_count": 83,
   "metadata": {},
   "outputs": [],
   "source": [
    "import numpy as np\n",
    "import pandas as pd\n",
    "import scipy.stats as st\n",
    "import seaborn as sns\n",
    "import datetime\n",
    "import matplotlib.pyplot as plt\n",
    "import plotly.graph_objects as go\n",
    "import plotly.express as px\n",
    "import plotly.io as pio\n",
    "from statsmodels.stats.multicomp import pairwise_tukeyhsd"
   ]
  },
  {
   "cell_type": "code",
   "execution_count": 84,
   "metadata": {
    "colab": {
     "base_uri": "https://localhost:8080/",
     "height": 172
    },
    "id": "op1t0-0QGZwS",
    "outputId": "be3029cf-0c41-4bea-815f-ef74130e754a"
   },
   "outputs": [
    {
     "data": {
      "text/html": [
       "<div>\n",
       "<style scoped>\n",
       "    .dataframe tbody tr th:only-of-type {\n",
       "        vertical-align: middle;\n",
       "    }\n",
       "\n",
       "    .dataframe tbody tr th {\n",
       "        vertical-align: top;\n",
       "    }\n",
       "\n",
       "    .dataframe thead th {\n",
       "        text-align: right;\n",
       "    }\n",
       "</style>\n",
       "<table border=\"1\" class=\"dataframe\">\n",
       "  <thead>\n",
       "    <tr style=\"text-align: right;\">\n",
       "      <th></th>\n",
       "      <th>pid</th>\n",
       "      <th>Name</th>\n",
       "      <th>Class 1</th>\n",
       "      <th>Class 2</th>\n",
       "      <th>HP</th>\n",
       "      <th>Attack</th>\n",
       "      <th>Defense</th>\n",
       "      <th>Sp. Atk</th>\n",
       "      <th>Sp. Def</th>\n",
       "      <th>Speed</th>\n",
       "      <th>Legendary</th>\n",
       "    </tr>\n",
       "  </thead>\n",
       "  <tbody>\n",
       "    <tr>\n",
       "      <th>0</th>\n",
       "      <td>1</td>\n",
       "      <td>Bulbasaur</td>\n",
       "      <td>Grass</td>\n",
       "      <td>Poison</td>\n",
       "      <td>45</td>\n",
       "      <td>49</td>\n",
       "      <td>49</td>\n",
       "      <td>65</td>\n",
       "      <td>65</td>\n",
       "      <td>45</td>\n",
       "      <td>False</td>\n",
       "    </tr>\n",
       "    <tr>\n",
       "      <th>1</th>\n",
       "      <td>2</td>\n",
       "      <td>Ivysaur</td>\n",
       "      <td>Grass</td>\n",
       "      <td>Poison</td>\n",
       "      <td>60</td>\n",
       "      <td>62</td>\n",
       "      <td>63</td>\n",
       "      <td>80</td>\n",
       "      <td>80</td>\n",
       "      <td>60</td>\n",
       "      <td>False</td>\n",
       "    </tr>\n",
       "    <tr>\n",
       "      <th>2</th>\n",
       "      <td>3</td>\n",
       "      <td>Venusaur</td>\n",
       "      <td>Grass</td>\n",
       "      <td>Poison</td>\n",
       "      <td>80</td>\n",
       "      <td>82</td>\n",
       "      <td>83</td>\n",
       "      <td>100</td>\n",
       "      <td>100</td>\n",
       "      <td>80</td>\n",
       "      <td>False</td>\n",
       "    </tr>\n",
       "    <tr>\n",
       "      <th>3</th>\n",
       "      <td>4</td>\n",
       "      <td>Mega Venusaur</td>\n",
       "      <td>Grass</td>\n",
       "      <td>Poison</td>\n",
       "      <td>80</td>\n",
       "      <td>100</td>\n",
       "      <td>123</td>\n",
       "      <td>122</td>\n",
       "      <td>120</td>\n",
       "      <td>80</td>\n",
       "      <td>False</td>\n",
       "    </tr>\n",
       "    <tr>\n",
       "      <th>4</th>\n",
       "      <td>5</td>\n",
       "      <td>Charmander</td>\n",
       "      <td>Fire</td>\n",
       "      <td>NaN</td>\n",
       "      <td>39</td>\n",
       "      <td>52</td>\n",
       "      <td>43</td>\n",
       "      <td>60</td>\n",
       "      <td>50</td>\n",
       "      <td>65</td>\n",
       "      <td>False</td>\n",
       "    </tr>\n",
       "  </tbody>\n",
       "</table>\n",
       "</div>"
      ],
      "text/plain": [
       "   pid           Name Class 1 Class 2  HP  Attack  Defense  Sp. Atk  Sp. Def  \\\n",
       "0    1      Bulbasaur   Grass  Poison  45      49       49       65       65   \n",
       "1    2        Ivysaur   Grass  Poison  60      62       63       80       80   \n",
       "2    3       Venusaur   Grass  Poison  80      82       83      100      100   \n",
       "3    4  Mega Venusaur   Grass  Poison  80     100      123      122      120   \n",
       "4    5     Charmander    Fire     NaN  39      52       43       60       50   \n",
       "\n",
       "   Speed  Legendary  \n",
       "0     45      False  \n",
       "1     60      False  \n",
       "2     80      False  \n",
       "3     80      False  \n",
       "4     65      False  "
      ]
     },
     "execution_count": 84,
     "metadata": {},
     "output_type": "execute_result"
    }
   ],
   "source": [
    "import warnings\n",
    "\n",
    "# Отключение предупреждений (warnings)\n",
    "warnings.filterwarnings(\"ignore\")\n",
    "\n",
    "import pandas as pd\n",
    "\n",
    "from scipy.stats import ttest_ind\n",
    "from scipy.stats import f_oneway, shapiro\n",
    "\n",
    "pokemon = pd.read_csv(\n",
    "    'https://raw.githubusercontent.com/a-milenkin/datasets_for_t-tests/main/pokemon.csv',\n",
    "    on_bad_lines='skip')  # Откроем датасет\n",
    "pokemon.head()\n",
    "\n",
    "# Обратите внимание, что у покемона может быть один или два класса.\n",
    "# Если у покемона два класса, считается, что они имеют одинаковую значимость."
   ]
  },
  {
   "cell_type": "markdown",
   "metadata": {
    "id": "8KytW3mUGZwT"
   },
   "source": [
    "### Задачи"
   ]
  },
  {
   "cell_type": "markdown",
   "metadata": {
    "id": "i72--cvLGZwT"
   },
   "source": [
    "<div class=\"alert alert-info\">\n",
    "<b>Задание № 1:</b>\n",
    "    \n",
    "Профессор Оук подозревает, что покемоны в классе `Grass` имеют более сильную обычную атаку, чем покемоны в классе `Rock`. Проверьте, прав ли он, и убедите его в своём выводе статистически.\n",
    "    \n",
    "    \n",
    "Примечание: если есть покемоны, которые относятся к обоим классам, просто выбросьте их;\n",
    "    \n",
    "Вы можете предположить, что распределение обычных атак является нормальным для всех классов покемонов.\n",
    "\n",
    "</div>"
   ]
  },
  {
   "cell_type": "markdown",
   "metadata": {},
   "source": [
    "H0: Нет разницы в атаке между группами."
   ]
  },
  {
   "cell_type": "code",
   "execution_count": 85,
   "metadata": {
    "id": "h6s6LL6mt17A"
   },
   "outputs": [
    {
     "data": {
      "text/html": [
       "<div>\n",
       "<style scoped>\n",
       "    .dataframe tbody tr th:only-of-type {\n",
       "        vertical-align: middle;\n",
       "    }\n",
       "\n",
       "    .dataframe tbody tr th {\n",
       "        vertical-align: top;\n",
       "    }\n",
       "\n",
       "    .dataframe thead tr th {\n",
       "        text-align: left;\n",
       "    }\n",
       "\n",
       "    .dataframe thead tr:last-of-type th {\n",
       "        text-align: right;\n",
       "    }\n",
       "</style>\n",
       "<table border=\"1\" class=\"dataframe\">\n",
       "  <thead>\n",
       "    <tr>\n",
       "      <th></th>\n",
       "      <th colspan=\"8\" halign=\"left\">Attack</th>\n",
       "    </tr>\n",
       "    <tr>\n",
       "      <th></th>\n",
       "      <th>count</th>\n",
       "      <th>mean</th>\n",
       "      <th>std</th>\n",
       "      <th>min</th>\n",
       "      <th>25%</th>\n",
       "      <th>50%</th>\n",
       "      <th>75%</th>\n",
       "      <th>max</th>\n",
       "    </tr>\n",
       "    <tr>\n",
       "      <th>Class</th>\n",
       "      <th></th>\n",
       "      <th></th>\n",
       "      <th></th>\n",
       "      <th></th>\n",
       "      <th></th>\n",
       "      <th></th>\n",
       "      <th></th>\n",
       "      <th></th>\n",
       "    </tr>\n",
       "  </thead>\n",
       "  <tbody>\n",
       "    <tr>\n",
       "      <th>Grass</th>\n",
       "      <td>93.0</td>\n",
       "      <td>73.731183</td>\n",
       "      <td>24.179645</td>\n",
       "      <td>27.0</td>\n",
       "      <td>59.0</td>\n",
       "      <td>70.0</td>\n",
       "      <td>95.00</td>\n",
       "      <td>132.0</td>\n",
       "    </tr>\n",
       "    <tr>\n",
       "      <th>Rock</th>\n",
       "      <td>56.0</td>\n",
       "      <td>91.785714</td>\n",
       "      <td>34.805284</td>\n",
       "      <td>10.0</td>\n",
       "      <td>63.0</td>\n",
       "      <td>92.5</td>\n",
       "      <td>116.25</td>\n",
       "      <td>165.0</td>\n",
       "    </tr>\n",
       "  </tbody>\n",
       "</table>\n",
       "</div>"
      ],
      "text/plain": [
       "      Attack                                                       \n",
       "       count       mean        std   min   25%   50%     75%    max\n",
       "Class                                                              \n",
       "Grass   93.0  73.731183  24.179645  27.0  59.0  70.0   95.00  132.0\n",
       "Rock    56.0  91.785714  34.805284  10.0  63.0  92.5  116.25  165.0"
      ]
     },
     "metadata": {},
     "output_type": "display_data"
    },
    {
     "data": {
      "image/png": "[encoded data removed]",
      "text/plain": [
       "<Figure size 1000x200 with 1 Axes>"
      ]
     },
     "metadata": {},
     "output_type": "display_data"
    }
   ],
   "source": [
    "des_class = ['Grass', 'Rock']\n",
    "z1df = pokemon.copy()\n",
    "\n",
    "z1df.drop(z1df[(pokemon['Class 1'].isin(des_class)) & (pokemon['Class 2'].isin(des_class))].index, inplace=True)\n",
    "z1df.loc[(z1df['Class 1'] == 'Grass') | (z1df['Class 2'] == 'Grass'), 'Class'] = 'Grass'\n",
    "z1df.loc[(z1df['Class 1'] == 'Rock') | (z1df['Class 2'] == 'Rock'), 'Class'] = 'Rock'\n",
    "z1df = z1df[~(z1df['Class'] == 'nan')]\n",
    "\n",
    "z1df = z1df[[\"Class\", \"Attack\", ]]\n",
    "display(z1df.groupby(\"Class\").describe())\n",
    "\n",
    "plt.figure(figsize=(10,2))\n",
    "sns.boxplot(data=z1df, y='Class', x='Attack', showmeans=True)\n",
    "plt.show()\n",
    "\n",
    "data_grass = z1df[z1df[\"Class\"] == \"Grass\"][\"Attack\"].values\n",
    "data_rock = z1df[z1df[\"Class\"] == \"Rock\"][\"Attack\"].values\n",
    "\n",
    "\n"
   ]
  },
  {
   "cell_type": "markdown",
   "metadata": {},
   "source": [
    "нормально распределение"
   ]
  },
  {
   "cell_type": "code",
   "execution_count": 86,
   "metadata": {},
   "outputs": [
    {
     "name": "stdout",
     "output_type": "stream",
     "text": [
      "stat = 0.978, pval = 0.112\n",
      "stat = 0.982, pval = 0.586\n"
     ]
    },
    {
     "data": {
      "image/png": "[encoded data removed]",
      "text/plain": [
       "<Figure size 1000x300 with 1 Axes>"
      ]
     },
     "metadata": {},
     "output_type": "display_data"
    }
   ],
   "source": [
    "stat, pval = st.shapiro(data_grass)\n",
    "print(\"stat = %.3f, pval = %.3f\" % (stat, pval))\n",
    "\n",
    "stat, pval = st.shapiro(data_rock)\n",
    "print(\"stat = %.3f, pval = %.3f\" % (stat, pval))\n",
    "\n",
    "plt.figure(figsize=(10,3))\n",
    "sns.kdeplot(data_grass, label=\"Grass\", fill = True, color = '#000000')\n",
    "sns.kdeplot(data_rock, label=\"Rock\", fill = True, color = '#B222F2')\n",
    "plt.legend()\n",
    "plt.show()"
   ]
  },
  {
   "cell_type": "code",
   "execution_count": 87,
   "metadata": {},
   "outputs": [
    {
     "name": "stdout",
     "output_type": "stream",
     "text": [
      "(0.48262460954678815, 0.9990088840898671)\n"
     ]
    }
   ],
   "source": [
    "# define F-test function\n",
    "def f_test(x, y):\n",
    "    x = np.array(x)\n",
    "    y = np.array(y)\n",
    "    f = np.var(x, ddof=1) / np.var(y, ddof=1)  # calculate F test statistic\n",
    "    dfn = x.size - 1  # define degrees of freedom numerator\n",
    "    dfd = y.size - 1  # define degrees of freedom denominator\n",
    "    p = 1 - st.f.cdf(f, dfn, dfd)  # find p-value of F test statistic\n",
    "    return f, p\n",
    "\n",
    "print(f_test(data_grass,data_rock))\n"
   ]
  },
  {
   "cell_type": "code",
   "execution_count": 88,
   "metadata": {},
   "outputs": [
    {
     "name": "stdout",
     "output_type": "stream",
     "text": [
      "stat = -3.729, pval = 0.000\n",
      "stat = 13.909, pval = 0.000\n",
      "stat = 1816.500, pval = 0.002\n",
      "Multiple Comparison of Means - Tukey HSD, FWER=0.05\n",
      "===================================================\n",
      "group1 group2 meandiff p-adj  lower   upper  reject\n",
      "---------------------------------------------------\n",
      " Grass   Rock  18.0545 0.0003 8.4875 27.6216   True\n",
      "---------------------------------------------------\n"
     ]
    },
    {
     "data": {
      "image/png": "[encoded data removed]",
      "text/plain": [
       "<Figure size 1000x600 with 1 Axes>"
      ]
     },
     "metadata": {},
     "output_type": "display_data"
    }
   ],
   "source": [
    "s, p = st.ttest_ind(data_grass, data_rock)\n",
    "print(\"stat = %.3f, pval = %.3f\" % (s, p))\n",
    "\n",
    "s, p = st.f_oneway(data_grass, data_rock)\n",
    "print(\"stat = %.3f, pval = %.3f\" % (s, p))\n",
    "\n",
    "s, p = st.mannwhitneyu(data_grass, data_rock)\n",
    "print(\"stat = %.3f, pval = %.3f\" % (s, p))\n",
    "\n",
    "tukey = pairwise_tukeyhsd(endog=z1df[\"Attack\"].values, groups=z1df['Class'], alpha=0.05)\n",
    "print(tukey)\n",
    "tukey.plot_simultaneous(comparison_name=\"Grass\");"
   ]
  },
  {
   "cell_type": "markdown",
   "metadata": {},
   "source": [
    "вывод: pval < 0.05, Разница есть отклоняем H0<br>\n",
    "Атака в Rock больше (Непонял как ститистически вывести, что одна группа больше другой)"
   ]
  },
  {
   "cell_type": "markdown",
   "metadata": {
    "id": "KS2OVjmFGZwV"
   },
   "source": [
    "<div class=\"alert alert-info\">\n",
    "<b>Задание № 2:</b>\n",
    "    \n",
    "Профессор Оук уже долго не может спать по ночам, ведь его волнует вопрос, а правда ли, что покемоны в классе `Water` в среднем быстрее, чем покемоны в классе `Normal`.\n",
    "    \n",
    "    \n",
    "Проверьте, прав ли он, и убедите его в своём выводе статистически.\n",
    "    \n",
    "Примечание: если есть покемоны, которые относятся к обоим классам, выбросьте их;\n",
    "    \n",
    "Вы можете предположить, что распределение скорости движения является нормальным для всех классов покемонов.\n",
    "</div>"
   ]
  },
  {
   "cell_type": "markdown",
   "metadata": {},
   "source": [
    "H0: Покемоны в классе Water такие же как и покемоны в классе Normal"
   ]
  },
  {
   "cell_type": "code",
   "execution_count": 89,
   "metadata": {
    "id": "h_p9DQRzt3o_"
   },
   "outputs": [
    {
     "name": "stdout",
     "output_type": "stream",
     "text": [
      "Class\n",
      "Water     125\n",
      "Normal    101\n",
      "Name: count, dtype: int64\n"
     ]
    },
    {
     "data": {
      "text/html": [
       "<div>\n",
       "<style scoped>\n",
       "    .dataframe tbody tr th:only-of-type {\n",
       "        vertical-align: middle;\n",
       "    }\n",
       "\n",
       "    .dataframe tbody tr th {\n",
       "        vertical-align: top;\n",
       "    }\n",
       "\n",
       "    .dataframe thead th {\n",
       "        text-align: right;\n",
       "    }\n",
       "</style>\n",
       "<table border=\"1\" class=\"dataframe\">\n",
       "  <thead>\n",
       "    <tr style=\"text-align: right;\">\n",
       "      <th></th>\n",
       "      <th>count</th>\n",
       "      <th>mean</th>\n",
       "      <th>std</th>\n",
       "      <th>min</th>\n",
       "      <th>25%</th>\n",
       "      <th>50%</th>\n",
       "      <th>75%</th>\n",
       "      <th>max</th>\n",
       "    </tr>\n",
       "    <tr>\n",
       "      <th>Class</th>\n",
       "      <th></th>\n",
       "      <th></th>\n",
       "      <th></th>\n",
       "      <th></th>\n",
       "      <th></th>\n",
       "      <th></th>\n",
       "      <th></th>\n",
       "      <th></th>\n",
       "    </tr>\n",
       "  </thead>\n",
       "  <tbody>\n",
       "    <tr>\n",
       "      <th>Normal</th>\n",
       "      <td>101.0</td>\n",
       "      <td>72.257426</td>\n",
       "      <td>28.42733</td>\n",
       "      <td>5.0</td>\n",
       "      <td>50.0</td>\n",
       "      <td>72.0</td>\n",
       "      <td>93.0</td>\n",
       "      <td>135.0</td>\n",
       "    </tr>\n",
       "    <tr>\n",
       "      <th>Water</th>\n",
       "      <td>125.0</td>\n",
       "      <td>64.936000</td>\n",
       "      <td>22.74889</td>\n",
       "      <td>15.0</td>\n",
       "      <td>50.0</td>\n",
       "      <td>65.0</td>\n",
       "      <td>81.0</td>\n",
       "      <td>122.0</td>\n",
       "    </tr>\n",
       "  </tbody>\n",
       "</table>\n",
       "</div>"
      ],
      "text/plain": [
       "        count       mean       std   min   25%   50%   75%    max\n",
       "Class                                                            \n",
       "Normal  101.0  72.257426  28.42733   5.0  50.0  72.0  93.0  135.0\n",
       "Water   125.0  64.936000  22.74889  15.0  50.0  65.0  81.0  122.0"
      ]
     },
     "execution_count": 89,
     "metadata": {},
     "output_type": "execute_result"
    }
   ],
   "source": [
    "des_class = ['Water', 'Normal']\n",
    "z2df = pokemon.copy()\n",
    "z2df.drop(z2df[(pokemon['Class 1'].isin(des_class)) & (pokemon['Class 2'].isin(des_class))].index, inplace=True)\n",
    "z2df.loc[(z2df['Class 1'] == 'Water') | (z2df['Class 2'] == 'Water'), 'Class'] = 'Water'\n",
    "z2df.loc[(z2df['Class 1'] == 'Normal') | (z2df['Class 2'] == 'Normal'), 'Class'] = 'Normal'\n",
    "z2df = z2df[~(z2df['Class'] == 'nan')]\n",
    "\n",
    "print(z2df[\"Class\"].value_counts())\n",
    "z2df.groupby(\"Class\")[\"Speed\"].describe()"
   ]
  },
  {
   "cell_type": "code",
   "execution_count": 90,
   "metadata": {},
   "outputs": [
    {
     "data": {
      "image/png": "[encoded data removed]",
      "text/plain": [
       "<Figure size 1000x200 with 1 Axes>"
      ]
     },
     "metadata": {},
     "output_type": "display_data"
    }
   ],
   "source": [
    "\n",
    "plt.figure(figsize=(10,2))\n",
    "sns.boxplot(data=z2df, y='Class', x='Speed', showmeans=True);\n",
    "plt.show()\n"
   ]
  },
  {
   "cell_type": "code",
   "execution_count": 91,
   "metadata": {},
   "outputs": [
    {
     "data": {
      "text/plain": [
       "Class\n",
       "Normal         100\n",
       "Water     [60, 70]\n",
       "Name: Speed, dtype: object"
      ]
     },
     "execution_count": 91,
     "metadata": {},
     "output_type": "execute_result"
    }
   ],
   "source": [
    "z2df.groupby(\"Class\")[\"Speed\"].agg(pd.Series.mode)"
   ]
  },
  {
   "cell_type": "code",
   "execution_count": 92,
   "metadata": {},
   "outputs": [
    {
     "name": "stdout",
     "output_type": "stream",
     "text": [
      "stat = 5299.500, pval = 0.038\n"
     ]
    }
   ],
   "source": [
    "data_water = z2df[z2df[\"Class\"] == \"Water\"][\"Speed\"].values\n",
    "data_normal = z2df[z2df[\"Class\"] == \"Normal\"][\"Speed\"].values\n",
    "\n",
    "s, p = st.mannwhitneyu(data_water, data_normal)\n",
    "print(\"stat = %.3f, pval = %.3f\" % (s, p))\n"
   ]
  },
  {
   "cell_type": "markdown",
   "metadata": {},
   "source": [
    "вывод: pval < 0.05, есть статистическая разница между Water и Normal<br>\n",
    "Покемоны в классе water медленнеее по Параметрам: среднее зн., медианное зн., мода зн."
   ]
  },
  {
   "cell_type": "markdown",
   "metadata": {
    "id": "p9VPcdu-GZwb"
   },
   "source": [
    "<div class=\"alert alert-info\">\n",
    "<b>Задание № 3:</b>\n",
    "    \n",
    "Профессор Оук тот еще безумец. Он изобрёл сыворотку, способную ускорить покемона. Однако мы усомнились в эффективности его вакцины. Професоор дал эту сыворотку следующим покемонам: смотри массив `treathed_pokemon`. Проверьте, работает ли вообще его сыворотка, убедите всех в своём выводе статистически.\n",
    "    \n",
    "    \n",
    "Вы можете предположить, что распределение скорости движения является нормальным для всех классов покемонов.\n",
    "\n",
    "</div>"
   ]
  },
  {
   "cell_type": "markdown",
   "metadata": {},
   "source": [
    "h0: усомнились в эффективности вакцины = выборки равны."
   ]
  },
  {
   "cell_type": "code",
   "execution_count": 93,
   "metadata": {
    "id": "olGBBpq2GZwb"
   },
   "outputs": [],
   "source": [
    "# Покемоны, которые принимали сыворотку увеличения скорости\n",
    "treathed_pokemon = ['Mega Beedrill', 'Mega Alakazam',\n",
    "                    'Deoxys Normal Forme', 'Mega Lopunny']"
   ]
  },
  {
   "cell_type": "code",
   "execution_count": 94,
   "metadata": {
    "id": "2hxZ3wbxt5T7"
   },
   "outputs": [
    {
     "name": "stdout",
     "output_type": "stream",
     "text": [
      "145.0 67.89195979899498\n"
     ]
    },
    {
     "data": {
      "image/png": "[encoded data removed]",
      "text/plain": [
       "<Figure size 1000x200 with 1 Axes>"
      ]
     },
     "metadata": {},
     "output_type": "display_data"
    }
   ],
   "source": [
    "z3df = pokemon.copy()\n",
    "z3df_threated = z3df[z3df['Name'].isin(treathed_pokemon)]\n",
    "z3df_other = z3df[~(z3df['Name'].isin(treathed_pokemon))]\n",
    "print(z3df_threated[\"Speed\"].mean(), z3df_other[\"Speed\"].mean())\n",
    "\n",
    "plt.figure(figsize=(10,2))\n",
    "plt.boxplot([z3df_other[\"Speed\"],z3df_threated[\"Speed\"]], vert=False)\n",
    "plt.show()"
   ]
  },
  {
   "cell_type": "code",
   "execution_count": 95,
   "metadata": {},
   "outputs": [
    {
     "name": "stdout",
     "output_type": "stream",
     "text": [
      "z-статистика: 19.50 p-value: 0.001\n"
     ]
    }
   ],
   "source": [
    "z_stat, pval = st.mannwhitneyu(z3df_other[\"Speed\"].values, z3df_threated[\"Speed\"].values)\n",
    "print(f'z-статистика: {z_stat:.2f}', f'p-value: {pval:.3f}')"
   ]
  },
  {
   "cell_type": "code",
   "execution_count": 96,
   "metadata": {},
   "outputs": [
    {
     "name": "stdout",
     "output_type": "stream",
     "text": [
      "Статистика = 8.375, p = 0.015\n",
      "Отклоняем нулевую гипотезу, распределения, вероятно, различаются\n"
     ]
    }
   ],
   "source": [
    "control_sample1 = z3df_other.sample(n=4, random_state=24)\n",
    "control_sample2 = z3df_other.sample(n=4, random_state=42)\n",
    "\n",
    "stat, p = st.kruskal(control_sample1[\"Speed\"].values, control_sample2[\"Speed\"].values, z3df_threated[\"Speed\"].values)\n",
    "print(f\"Статистика = {stat:.3f}, p = {p:.3f}\")\n",
    "\n",
    "if p > 0.05:\n",
    "    print('Не отклоняем нулевую гипотезу, распределения, вероятно, одинаковые')\n",
    "else:\n",
    "    print('Отклоняем нулевую гипотезу, распределения, вероятно, различаются')"
   ]
  },
  {
   "cell_type": "markdown",
   "metadata": {},
   "source": [
    "Вывод: pval < 0.05 отлоняем H0.<br>\n",
    "Исходя из графика видим, что скорость тестовой группы нымного выше скорости средней всей выборки.\n"
   ]
  },
  {
   "cell_type": "markdown",
   "metadata": {
    "id": "IpgS6yk9GZwc"
   },
   "source": [
    "<div class=\"alert alert-info\">\n",
    "<b>Задание № 4:</b>\n",
    "    \n",
    "Профессор Оук всегда любил истории про легендарных покемонов. Однако профессор не очень уверен, что они лучше остальных покемонов. Оук предложил разобраться в этом нам. Проверьте, действительно ли сумма характеристик `HP`,`Attack`,`Defense` у легендарных покемонов выше, чем у других покемонов?\n",
    "\n",
    "А произведение этих же параметров?\n",
    "\n",
    "Найдите ответы на эти вопросы и убедите всех в своём выводе статистически.\n",
    "   \n",
    "\n",
    "Вы можете предположить, что распределение сум и произведений этих параметров является нормальным для всех классов покемонов.\n",
    "\n",
    "</div>"
   ]
  },
  {
   "cell_type": "markdown",
   "metadata": {},
   "source": [
    "H0: HP, Attack, Defence не отличается между legendary и остальными"
   ]
  },
  {
   "cell_type": "code",
   "execution_count": 97,
   "metadata": {
    "id": "ah5AoxB1t8tA"
   },
   "outputs": [
    {
     "data": {
      "text/plain": [
       "(               HP      Attack     Defense\n",
       " count   65.000000   65.000000   65.000000\n",
       " mean    92.738462  116.676923   99.661538\n",
       " std     21.722164   30.348037   28.255131\n",
       " min     50.000000   50.000000   20.000000\n",
       " 25%     80.000000  100.000000   90.000000\n",
       " 50%     91.000000  110.000000  100.000000\n",
       " 75%    105.000000  131.000000  115.000000\n",
       " max    150.000000  190.000000  200.000000,\n",
       "                HP      Attack     Defense\n",
       " count  735.000000  735.000000  735.000000\n",
       " mean    67.182313   75.669388   71.559184\n",
       " std     24.808849   30.490153   30.408194\n",
       " min      1.000000    5.000000    5.000000\n",
       " 25%     50.000000   54.500000   50.000000\n",
       " 50%     65.000000   72.000000   66.000000\n",
       " 75%     79.500000   95.000000   85.000000\n",
       " max    255.000000  185.000000  230.000000)"
      ]
     },
     "execution_count": 97,
     "metadata": {},
     "output_type": "execute_result"
    }
   ],
   "source": [
    "z4df = pokemon.copy()\n",
    "z4df_legendary = z4df[z4df[\"Legendary\"] == True][[\"HP\", \"Attack\", \"Defense\"]]\n",
    "z4df_other = z4df[z4df[\"Legendary\"] == False][[\"HP\", \"Attack\", \"Defense\"]]\n",
    "\n",
    "(z4df_legendary.describe(), z4df_other.describe())"
   ]
  },
  {
   "cell_type": "code",
   "execution_count": 98,
   "metadata": {},
   "outputs": [
    {
     "name": "stdout",
     "output_type": "stream",
     "text": [
      "stat = 42199.000, pval = 0.000\n"
     ]
    },
    {
     "data": {
      "image/png": "[encoded data removed]",
      "text/plain": [
       "<Figure size 1000x200 with 1 Axes>"
      ]
     },
     "metadata": {},
     "output_type": "display_data"
    }
   ],
   "source": [
    "z4df_legendary[\"SUM_HAD\"] = z4df_legendary[\"HP\"] + z4df_legendary[\"Attack\"] + z4df_legendary[\"Defense\"]\n",
    "z4df_other[\"SUM_HAD\"] = z4df_other[\"HP\"] + z4df_other[\"Attack\"] + z4df_other[\"Defense\"]\n",
    "\n",
    "stat, pval = st.mannwhitneyu(z4df_legendary[\"SUM_HAD\"].values, z4df_other[\"SUM_HAD\"].values)\n",
    "print(\"stat = %.3f, pval = %.3f\" % (stat, pval))\n",
    "\n",
    "plt.figure(figsize=(10,2))\n",
    "plt.boxplot([z4df_other[\"SUM_HAD\"], z4df_legendary[\"SUM_HAD\"]], vert=False)\n",
    "plt.show()"
   ]
  },
  {
   "cell_type": "markdown",
   "metadata": {},
   "source": [
    "Вывод: pval < 0.05, отклоняем H0"
   ]
  },
  {
   "cell_type": "markdown",
   "metadata": {
    "id": "g9GwcheAGZwc"
   },
   "source": [
    "<div class=\"alert alert-info\">\n",
    "<b>Задание № 5:</b>\n",
    "    \n",
    "Профессор Оук частенько наблюдает за боями покемонов. После очередных таких боёв Оук выделил четыре класса `best_defence_class`, которые на его взгляд одинаковы по \"силе обычной защиты\" `Defense`.\n",
    "\n",
    "Проверьте, действительно ли эти классы покемонов не отличаются по уровню защиты статистически значимо? Всё та же статистика вам в помощь!\n",
    "   \n",
    "\n",
    "Вы можете предположить, что распределение параметров защитных характеристик является нормальным для всех классов покемонов.\n",
    "\n",
    "</div>"
   ]
  },
  {
   "cell_type": "markdown",
   "metadata": {},
   "source": [
    "H0: Не видим разницы по силе обычной защиты"
   ]
  },
  {
   "cell_type": "code",
   "execution_count": 99,
   "metadata": {
    "colab": {
     "base_uri": "https://localhost:8080/"
    },
    "id": "F0w6ipNBGZwd",
    "outputId": "e20a4efd-dcf6-4730-8730-91f7fec544ea"
   },
   "outputs": [
    {
     "data": {
      "text/plain": [
       "['Rock', 'Ground', 'Steel', 'Ice']"
      ]
     },
     "execution_count": 99,
     "metadata": {},
     "output_type": "execute_result"
    }
   ],
   "source": [
    "best_defence_class = ['Rock', 'Ground', 'Steel', 'Ice']\n",
    "best_defence_class"
   ]
  },
  {
   "cell_type": "code",
   "execution_count": 100,
   "metadata": {
    "id": "pYOPHA9Xt_eF"
   },
   "outputs": [
    {
     "name": "stdout",
     "output_type": "stream",
     "text": [
      "stat = 9.618, pval = 0.000\n"
     ]
    },
    {
     "data": {
      "image/png": "[encoded data removed]",
      "text/plain": [
       "<Figure size 1000x200 with 1 Axes>"
      ]
     },
     "metadata": {},
     "output_type": "display_data"
    }
   ],
   "source": [
    "z5df = pokemon.copy()\n",
    "z5df_best = z5df[z5df[\"Class 1\"].isin(best_defence_class) | z5df[\"Class 2\"].isin(best_defence_class)]\n",
    "z5df_other = z5df[~(z5df[\"Class 1\"].isin(best_defence_class) & ~(z5df[\"Class 2\"].isin(best_defence_class)))]\n",
    "\n",
    "stat, pval = st.ttest_ind(z5df_best[\"Defense\"], z5df_other[\"Defense\"])\n",
    "print(\"stat = %.3f, pval = %.3f\" % (stat, pval))\n",
    "\n",
    "plt.figure(figsize=(10,2))\n",
    "plt.boxplot([z5df_best[\"Defense\"], z5df_other[\"Defense\"], ], vert=False)\n",
    "plt.show()\n"
   ]
  },
  {
   "cell_type": "code",
   "execution_count": 101,
   "metadata": {},
   "outputs": [
    {
     "name": "stdout",
     "output_type": "stream",
     "text": [
      "stat = 10.021, pval = 0.000\n",
      "Статистика=100.427, p=0.000000\n"
     ]
    },
    {
     "data": {
      "image/png": "[encoded data removed]",
      "text/plain": [
       "<Figure size 1000x200 with 1 Axes>"
      ]
     },
     "metadata": {},
     "output_type": "display_data"
    }
   ],
   "source": [
    "def remove_outliers(data):\n",
    "    iqr = data.quantile(0.75) - data.quantile(0.25)\n",
    "    lower_bound = data.quantile(0.25) - (iqr * 1.5)\n",
    "    upper_bound = data.quantile(0.75) + (iqr * 1.5)\n",
    "    return data[(data > lower_bound) & (data < upper_bound)]\n",
    "\n",
    "z5df_best_vals = remove_outliers(z5df_best[\"Defense\"])\n",
    "z5df_other_vals = remove_outliers(z5df_other[\"Defense\"])\n",
    "\n",
    "stat, pval = st.ttest_ind(z5df_best_vals, z5df_other_vals)\n",
    "print(\"stat = %.3f, pval = %.3f\" % (stat, pval))\n",
    "fvalue, pvalue = st.f_oneway(z5df_best_vals, z5df_other_vals)\n",
    "print('Статистика=%.3f, p=%.6f' % (fvalue, pvalue))\n",
    "\n",
    "plt.figure(figsize=(10,2))\n",
    "plt.boxplot([z5df_best_vals, z5df_other_vals], vert=False)\n",
    "plt.show()\n"
   ]
  },
  {
   "cell_type": "markdown",
   "metadata": {},
   "source": [
    "Вывод: pval < 0.05, отклоняем H0, классы отличаются по силе защиты.<br>\n",
    "Best мог показаться лучше изза наличия выбросов в нем."
   ]
  },
  {
   "cell_type": "markdown",
   "metadata": {
    "id": "If3qgUORDFBb"
   },
   "source": [
    "# **Примечание:**\n",
    "\n",
    "Домашнее задание сдается ссылкой [Google Colab](https://colab.research.google.com/). Мы не сможем проверить его или помочь, если вы пришлете:\n",
    "\n",
    "*   файлы;\n",
    "*   архивы;\n",
    "*   скриншоты кода.\n",
    "\n",
    "Все обсуждения и консультации по выполнению домашнего задания ведутся только на соответствующем канале в Discord.\n",
    "\n",
    "**Как правильно задавать вопросы аспирантам, преподавателям и коллегам:**\n",
    "\n",
    "Прежде чем задать вопрос, попробуйте найти ответ в интернете. Навык самостоятельного поиска информации — один из важнейших. Каждый практикующий специалист любого уровня делает это ежедневно.\n",
    "\n",
    "Сформулируйте вопрос по алгоритму:\n",
    "\n",
    "1.   Что я делаю?\n",
    "2.   Какого результата я ожидаю?\n",
    "3.   Как фактический результат отличается от ожидаемого?\n",
    "4.   Что я уже попробовал сделать, чтобы исправить проблему?\n",
    "\n",
    "По возможности прикрепите к вопросу скриншоты либо ссылки на код. Не выкладывайте все решение, оставляйте только проблемный и воспроизводимый участок кода."
   ]
  }
 ],
 "metadata": {
  "colab": {
   "provenance": []
  },
  "kernelspec": {
   "display_name": "Python 3",
   "language": "python",
   "name": "python3"
  },
  "language_info": {
   "codemirror_mode": {
    "name": "ipython",
    "version": 3
   },
   "file_extension": ".py",
   "mimetype": "text/x-python",
   "name": "python",
   "nbconvert_exporter": "python",
   "pygments_lexer": "ipython3",
   "version": "3.11.5"
  },
  "toc": {
   "base_numbering": 1,
   "nav_menu": {},
   "number_sections": true,
   "sideBar": true,
   "skip_h1_title": false,
   "title_cell": "Table of Contents",
   "title_sidebar": "Contents",
   "toc_cell": false,
   "toc_position": {},
   "toc_section_display": true,
   "toc_window_display": false
  }
 },
 "nbformat": 4,
 "nbformat_minor": 0
}
